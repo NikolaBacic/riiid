{
 "cells": [
  {
   "cell_type": "markdown",
   "metadata": {},
   "source": [
    "### <span style=\"color:darkgreen\">**Riiid - GRU**</span>"
   ]
  },
  {
   "cell_type": "code",
   "execution_count": null,
   "metadata": {},
   "outputs": [],
   "source": [
    "# IMPORTS\n",
    "\n",
    "import os\n",
    "import pickle\n",
    "\n",
    "import torch\n",
    "\n",
    "# my packages\n",
    "from dataset import RiiidData\n",
    "from model_gru import SaintNikolaGRU\n",
    "from train import train_model\n",
    "from utils import seed_everything, get_ma\n",
    "\n",
    "# dataset config\n",
    "from config_gru import max_quest, num_quest, start_response_token, sequel_response_token, batch_size\n",
    "# model config\n",
    "from config_gru import input_size_gru, hidden_size_gru, num_layers_gru\n",
    "# training config\n",
    "from config_gru import lr, epochs, warmup_steps\n",
    "\n",
    "from config_gru import random_seed\n",
    "seed_everything(random_seed)\n",
    "\n",
    "# visible GPU card\n",
    "gpu_idx = 0\n",
    "os.environ[\"CUDA_VISIBLE_DEVICES\"] = f\"{gpu_idx}\"\n",
    "device = torch.device(\"cuda\")\n",
    "\n",
    "import matplotlib.pyplot as plt\n",
    "%matplotlib inline "
   ]
  },
  {
   "cell_type": "code",
   "execution_count": null,
   "metadata": {},
   "outputs": [],
   "source": [
    "# # FORMAT THE DATA - DO ONLY ONCE\n",
    "\n",
    "# import pickle\n",
    "# import pandas as pd\n",
    "# from utils import csv_to_dict\n",
    "\n",
    "# df = pd.read_parquet(\"../data/riiid_train.parquet\")\n",
    "# questions_container = csv_to_dict(df)\n",
    "\n",
    "# # save files\n",
    "# with open(\"./questions_container.pickle\", \"wb\") as handle:\n",
    "#     pickle.dump(questions_container, handle, protocol=pickle.HIGHEST_PROTOCOL)\n"
   ]
  },
  {
   "cell_type": "code",
   "execution_count": null,
   "metadata": {},
   "outputs": [],
   "source": [
    "%%time\n",
    "\n",
    "# load data container\n",
    "with open(\"../models/riiid_container/questions_container.pickle\", \"rb\") as handle:\n",
    "    questions_container = pickle.load(handle)\n"
   ]
  },
  {
   "cell_type": "code",
   "execution_count": null,
   "metadata": {},
   "outputs": [],
   "source": [
    "# TRAIN AND VALIDATION DATALOADERS\n",
    "data = RiiidData(questions_container, max_quest, num_quest, start_response_token, sequel_response_token, batch_size)\n",
    "data.sampling_process()\n",
    "train_dataloader, val_dataloader = data.get_dataloaders(val_size=0.2)\n"
   ]
  },
  {
   "cell_type": "code",
   "execution_count": null,
   "metadata": {},
   "outputs": [],
   "source": [
    "# INITIALIZE A MODEL INSTANCE\n",
    "model = SaintNikolaGRU(device, num_quest, max_quest, input_size_gru, hidden_size_gru, num_layers_gru)\n",
    "model.init_weights()\n",
    "model.to(device)\n",
    "print(f\"The model has {model.num_parameters()} of trainable parameters!\")"
   ]
  },
  {
   "cell_type": "code",
   "execution_count": null,
   "metadata": {},
   "outputs": [],
   "source": [
    "# TRAIN THE MODEL\n",
    "model, train_loss = train_model(model, device, train_dataloader, val_dataloader, lr, epochs, warmup_steps)"
   ]
  },
  {
   "cell_type": "code",
   "execution_count": null,
   "metadata": {},
   "outputs": [],
   "source": [
    "# PLOT MOVING AVERAGE TRAIN LOSS\n",
    "ma_loss = get_ma(train_loss, window_size=40)\n",
    "plt.rcParams[\"figure.figsize\"] = (20, 5)\n",
    "plt.plot(ma_loss[100:])\n",
    "plt.hlines(0.50, xmin=0, xmax=len(ma_loss[100:]), colors=\"r\");"
   ]
  },
  {
   "cell_type": "code",
   "execution_count": null,
   "metadata": {},
   "outputs": [],
   "source": []
  },
  {
   "cell_type": "code",
   "execution_count": null,
   "metadata": {},
   "outputs": [],
   "source": []
  }
 ],
 "metadata": {
  "kernelspec": {
   "display_name": "Python 3",
   "language": "python",
   "name": "python3"
  },
  "language_info": {
   "codemirror_mode": {
    "name": "ipython",
    "version": 3
   },
   "file_extension": ".py",
   "mimetype": "text/x-python",
   "name": "python",
   "nbconvert_exporter": "python",
   "pygments_lexer": "ipython3",
   "version": "3.6.6"
  }
 },
 "nbformat": 4,
 "nbformat_minor": 4
}
